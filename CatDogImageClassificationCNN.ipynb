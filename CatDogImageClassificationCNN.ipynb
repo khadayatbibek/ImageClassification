{
 "cells": [
  {
   "cell_type": "markdown",
   "id": "AuW-xg_bTsaF",
   "metadata": {
    "id": "AuW-xg_bTsaF"
   },
   "source": [
    "# Cats vs Dog image classification Using CNN's \n",
    "\n"
   ]
  },
  {
   "cell_type": "code",
   "execution_count": 29,
   "id": "dn-6c02VmqiN",
   "metadata": {
    "id": "dn-6c02VmqiN"
   },
   "outputs": [],
   "source": [
    "import os\n",
    "import zipfile\n",
    "import random\n",
    "import shutil\n",
    "import tensorflow as tf\n",
    "from tensorflow.keras.preprocessing.image import ImageDataGenerator\n",
    "from shutil import copyfile\n",
    "import matplotlib.pyplot as plt"
   ]
  },
  {
   "cell_type": "code",
   "execution_count": 6,
   "id": "3sd9dQWa23aj",
   "metadata": {
    "colab": {
     "base_uri": "https://localhost:8080/"
    },
    "id": "3sd9dQWa23aj",
    "lines_to_next_cell": 2,
    "outputId": "fe04da74-cbfe-4295-cc98-95557a03e668"
   },
   "outputs": [],
   "source": [
    "# This dataset is taken from https://www.kaggle.com/datasets/shaunthesheep/microsoft-catsvsdogs-dataset if this link dont work \n",
    "#visit https://www.microsoft.com/en-us/download/confirmation.aspx?id=54765\n",
    "# And right click on the 'Download Manually' link to get a new URL to the dataset\n",
    "\n"
   ]
  },
  {
   "cell_type": "code",
   "execution_count": 33,
   "id": "DM851ZmN28J3",
   "metadata": {
    "colab": {
     "base_uri": "https://localhost:8080/"
    },
    "id": "DM851ZmN28J3",
    "outputId": "3a800534-5757-43f6-f9d8-04a0d462fec8"
   },
   "outputs": [
    {
     "name": "stdout",
     "output_type": "stream",
     "text": [
      "There are 12501 images of dogs.\n",
      "There are 12501 images of cats.\n"
     ]
    }
   ],
   "source": [
    "source_path = 'PetImages'\n",
    "\n",
    "source_path_dogs = os.path.join(source_path, 'Dog')\n",
    "source_path_cats = os.path.join(source_path, 'Cat')\n",
    "\n",
    "\n",
    "# os.listdir returns a list containing all files under the given path\n",
    "print(f\"There are {len(os.listdir(source_path_dogs))} images of dogs.\")\n",
    "print(f\"There are {len(os.listdir(source_path_cats))} images of cats.\")"
   ]
  },
  {
   "cell_type": "code",
   "execution_count": 34,
   "id": "oXmEDKWYrSAY",
   "metadata": {
    "colab": {
     "base_uri": "https://localhost:8080/",
     "height": 36
    },
    "id": "oXmEDKWYrSAY",
    "outputId": "7a654daa-5c00-41c5-e0ed-041c1d19374e"
   },
   "outputs": [
    {
     "data": {
      "text/plain": [
       "'Dataset'"
      ]
     },
     "execution_count": 34,
     "metadata": {},
     "output_type": "execute_result"
    }
   ],
   "source": [
    "# Define root directory\n",
    "root_dir = 'Dataset'\n",
    "root_dir"
   ]
  },
  {
   "cell_type": "markdown",
   "id": "iFbMliudNIjW",
   "metadata": {
    "id": "iFbMliudNIjW"
   },
   "source": [
    "lets create  subdirectories for training\n",
    "and testing. "
   ]
  },
  {
   "cell_type": "code",
   "execution_count": 35,
   "id": "F-QkLjxpmyK2",
   "metadata": {
    "cellView": "code",
    "colab": {
     "base_uri": "https://localhost:8080/"
    },
    "id": "F-QkLjxpmyK2",
    "outputId": "b95205a8-ea0a-4b1e-b69d-05393272ec4b"
   },
   "outputs": [
    {
     "name": "stdout",
     "output_type": "stream",
     "text": [
      "Dataset created\n",
      "Dataset\\training created\n",
      "Dataset\\testing created\n",
      "Dataset\\training\\cats created\n",
      "Dataset\\training\\dogs created\n",
      "Dataset\\testing\\cats created\n",
      "Dataset\\testing\\dogs created\n"
     ]
    }
   ],
   "source": [
    "\n",
    "\n",
    "\n",
    "# Empty directory to prevent FileExistsError is the function is run several times\n",
    "if os.path.exists(root_dir):\n",
    "    \n",
    "    shutil.rmtree(root_dir)\n",
    "\n",
    "\n",
    "def create_train_test_dirs(root_path):    \n",
    "    \n",
    "    train_dir = os.path.join(root_path, 'training')   \n",
    "    test_dir = os.path.join(root_path, 'testing')\n",
    "    \n",
    "    # Directory with training cat/dog pictures\n",
    "    train_cats_dir = os.path.join(train_dir, 'cats')\n",
    "    train_dogs_dir = os.path.join(train_dir, 'dogs')\n",
    "    \n",
    "    # Directory with testing cat/dog pictures\n",
    "    test_cats_dir = os.path.join(test_dir, 'cats')\n",
    "    test_dogs_dir = os.path.join(test_dir, 'dogs')\n",
    "    to_create = [root_path,train_dir,test_dir,train_cats_dir,train_dogs_dir,test_cats_dir,test_dogs_dir ]  \n",
    "    for directory in to_create:        \n",
    "        try:            \n",
    "            os.mkdir(directory)\n",
    "            print(directory, '--created')\n",
    "        except:\n",
    "            print(directory, '--failed')\n",
    " \n",
    "    pass\n",
    "\n",
    "    \n",
    "\n",
    "try:\n",
    "    \n",
    "    create_train_test_dirs(root_path=root_dir)\n",
    "except FileExistsError:\n",
    "    \n",
    "    print(\"You should not be seeing this since the upper directory is removed beforehand\")"
   ]
  },
  {
   "cell_type": "code",
   "execution_count": 37,
   "id": "5dhtL344OK00",
   "metadata": {
    "colab": {
     "base_uri": "https://localhost:8080/"
    },
    "id": "5dhtL344OK00",
    "outputId": "4dd7bd11-54f1-4e91-f142-9637f5fbcf9a"
   },
   "outputs": [
    {
     "name": "stdout",
     "output_type": "stream",
     "text": [
      "Dataset\\testing\n",
      "Dataset\\training\n",
      "Dataset\\testing\\cats\n",
      "Dataset\\testing\\dogs\n",
      "Dataset\\training\\cats\n",
      "Dataset\\training\\dogs\n"
     ]
    }
   ],
   "source": [
    "# Test our created directories \n",
    "\n",
    "for rootdir, dirs, files in os.walk(root_dir):\n",
    "    \n",
    "    for subdir in dirs:\n",
    "        \n",
    "        print(os.path.join(rootdir, subdir))"
   ]
  },
  {
   "cell_type": "code",
   "execution_count": 40,
   "id": "zvSODo0f9LaU",
   "metadata": {
    "cellView": "code",
    "id": "zvSODo0f9LaU"
   },
   "outputs": [],
   "source": [
    "\n",
    "def split_data(SOURCE, TRAINING, TESTING, SPLIT_SIZE):\n",
    "    all_files = []    \n",
    "    for file_name in os.listdir(SOURCE):\n",
    "        file_path = SOURCE + file_name\n",
    "        if os.path.getsize(file_path):            \n",
    "            all_files.append(file_name)\n",
    "        else:\n",
    "            print('{} is zero length, so ignoring'.format(file_name))\n",
    "    \n",
    "    n_files = len(all_files)\n",
    "    split_point = int(n_files * SPLIT_SIZE)\n",
    "    \n",
    "    shuffled = random.sample(all_files, n_files)\n",
    "    \n",
    "    train_set = shuffled[:split_point]\n",
    "    test_set = shuffled[split_point:]\n",
    "    \n",
    "    for file_name in train_set:\n",
    "        copyfile(SOURCE + file_name, TRAINING + file_name)\n",
    "        \n",
    "    for file_name in test_set:\n",
    "        copyfile(SOURCE + file_name, TESTING + file_name)\n",
    "    pass\n",
    "\n"
   ]
  },
  {
   "cell_type": "code",
   "execution_count": 41,
   "id": "FlIdoUeX9S-9",
   "metadata": {
    "colab": {
     "base_uri": "https://localhost:8080/"
    },
    "id": "FlIdoUeX9S-9",
    "outputId": "9a15a2e9-cc03-4098-e29b-91293c2989eb"
   },
   "outputs": [
    {
     "name": "stdout",
     "output_type": "stream",
     "text": [
      "666.jpg is zero length, so ignoring\n",
      "11702.jpg is zero length, so ignoring\n",
      "\n",
      "\n",
      "There are 11250 images of cats for training\n",
      "There are 11250 images of dogs for training\n",
      "There are 1250 images of cats for testing\n",
      "There are 1250 images of dogs for testing\n"
     ]
    }
   ],
   "source": [
    "# Test your split_data function\n",
    "\n",
    "# Define paths\n",
    "CAT_SOURCE_DIR = \"PetImages/Cat/\"\n",
    "DOG_SOURCE_DIR = \"PetImages/Dog/\"\n",
    "\n",
    "TRAINING_DIR = \"Dataset/training/\"\n",
    "TESTING_DIR = \"Dataset/testing/\"\n",
    "\n",
    "TRAINING_CATS_DIR = os.path.join(TRAINING_DIR, \"cats/\")\n",
    "TESTING_CATS_DIR = os.path.join(TESTING_DIR, \"cats/\")\n",
    "\n",
    "TRAINING_DOGS_DIR = os.path.join(TRAINING_DIR, \"dogs/\")\n",
    "TESTING_DOGS_DIR = os.path.join(TESTING_DIR, \"dogs/\")\n",
    "\n",
    "# Empty directories in case you run this cell multiple times\n",
    "if len(os.listdir(TRAINING_CATS_DIR)) > 0:    \n",
    "    for file in os.scandir(TRAINING_CATS_DIR):        \n",
    "        os.remove(file.path)\n",
    "if len(os.listdir(TRAINING_DOGS_DIR)) > 0:\n",
    "    for file in os.scandir(TRAINING_DOGS_DIR):        \n",
    "        os.remove(file.path)\n",
    "if len(os.listdir(TESTING_CATS_DIR)) > 0:\n",
    "    for file in os.scandir(TESTING_CATS_DIR):\n",
    "        os.remove(file.path)\n",
    "if len(os.listdir(TESTING_DOGS_DIR)) > 0:\n",
    "    for file in os.scandir(TESTING_DOGS_DIR):\n",
    "        os.remove(file.path)\n",
    "\n",
    "# Define proportion of images used for training\n",
    "split_size = .9\n",
    "\n",
    "# Run the function\n",
    "# NOTE: Messages about zero length images should be printed out\n",
    "split_data(CAT_SOURCE_DIR, TRAINING_CATS_DIR, TESTING_CATS_DIR, split_size)\n",
    "split_data(DOG_SOURCE_DIR, TRAINING_DOGS_DIR, TESTING_DOGS_DIR, split_size)\n",
    "\n",
    "# Check that the number of images matches the expected output\n",
    "print(f\"\\n\\nThere are {len(os.listdir(TRAINING_CATS_DIR))} images of cats for training\")\n",
    "print(f\"There are {len(os.listdir(TRAINING_DOGS_DIR))} images of dogs for training\")\n",
    "print(f\"There are {len(os.listdir(TESTING_CATS_DIR))} images of cats for testing\")\n",
    "print(f\"There are {len(os.listdir(TESTING_DOGS_DIR))} images of dogs for testing\")"
   ]
  },
  {
   "cell_type": "code",
   "execution_count": 42,
   "id": "fQrZfVgz4j2g",
   "metadata": {
    "cellView": "code",
    "id": "fQrZfVgz4j2g"
   },
   "outputs": [],
   "source": [
    "#let use flow_from_directory to Normalize resoluation of images \n",
    "def train_val_generators(TRAINING_DIR, VALIDATION_DIR):\n",
    "    \n",
    "    # Instantiate the ImageDataGenerator class and  rescale argument\n",
    "    train_datagen = ImageDataGenerator(rescale=1 / 255)\n",
    "\n",
    "    # Pass in the appropiate arguments to the flow_from_directory method\n",
    "    train_generator = train_datagen.flow_from_directory(directory=TRAINING_DIR,\n",
    "                                                      batch_size=64,\n",
    "                                                      class_mode='binary',\n",
    "                                                      target_size=(150, 150))\n",
    "\n",
    "    # Instantiate the ImageDataGenerator class and  rescale argument\n",
    "    validation_datagen = ImageDataGenerator(rescale=1 / 255)\n",
    "\n",
    "    # Pass in the appropiate arguments to the flow_from_directory method\n",
    "    validation_generator = validation_datagen.flow_from_directory(directory=VALIDATION_DIR,\n",
    "                                                                batch_size=64,\n",
    "                                                                class_mode='binary',\n",
    "                                                                target_size=(150, 150))\n",
    "  \n",
    "    return train_generator, validation_generator\n"
   ]
  },
  {
   "cell_type": "code",
   "execution_count": 43,
   "id": "qM7FxrjGiobD",
   "metadata": {
    "colab": {
     "base_uri": "https://localhost:8080/"
    },
    "id": "qM7FxrjGiobD",
    "outputId": "4035012f-f138-425c-f7d1-20fb1e9815f5"
   },
   "outputs": [
    {
     "name": "stdout",
     "output_type": "stream",
     "text": [
      "Found 22498 images belonging to 2 classes.\n",
      "Found 2500 images belonging to 2 classes.\n"
     ]
    }
   ],
   "source": [
    "# Test our generators\n",
    "train_generator, validation_generator = train_val_generators(TRAINING_DIR, TESTING_DIR)"
   ]
  },
  {
   "cell_type": "code",
   "execution_count": 46,
   "id": "1ef03454",
   "metadata": {},
   "outputs": [],
   "source": [
    "class myCallback(tf.keras.callbacks.Callback):\n",
    "    \n",
    "    def on_epoch_end(self, epoch, logs={}):\n",
    "        \n",
    "        if logs.get('accuracy') is not None and logs.get('accuracy') > 0.988:\n",
    "            \n",
    "            print(\"\\nReached 98.8% accuracy so cancelling training!\")\n",
    "            self.model.stop_training = True\n",
    "            \n",
    "                \n",
    "                \n"
   ]
  },
  {
   "cell_type": "code",
   "execution_count": 47,
   "id": "oDPK8tUB_O9e",
   "metadata": {
    "cellView": "code",
    "id": "oDPK8tUB_O9e",
    "lines_to_next_cell": 2
   },
   "outputs": [],
   "source": [
    " # Let build our KERAS MODEL TO CLASSIFY CATS V DOGS USEING 3 CONVOLUTION LAYERS\n",
    "\n",
    "\n",
    "from tensorflow.keras.optimizers import RMSprop\n",
    "def create_model():\n",
    "    \n",
    "    model = tf.keras.models.Sequential([                                       \n",
    "    tf.keras.layers.Conv2D(32, (3,3), activation='relu', input_shape=(150, 150, 3)),\n",
    "    tf.keras.layers.MaxPooling2D(2,2),\n",
    "    tf.keras.layers.Conv2D(32, (3,3), activation='relu'),\n",
    "    tf.keras.layers.MaxPooling2D(2,2),\n",
    "    tf.keras.layers.Conv2D(64, (2,2), activation='relu'),\n",
    "    tf.keras.layers.MaxPooling2D(2,2),\n",
    "    tf.keras.layers.Flatten(),\n",
    "    tf.keras.layers.Dense(512, activation='relu'),\n",
    "    tf.keras.layers.Dense(1, activation='sigmoid')\n",
    "    ])\n",
    "\n",
    "  \n",
    "    model.compile(optimizer=RMSprop(lr=0.001),\n",
    "                loss='binary_crossentropy',\n",
    "                metrics=['accuracy']) \n",
    "    \n",
    "  \n",
    "\n",
    "    return model\n"
   ]
  },
  {
   "cell_type": "code",
   "execution_count": 59,
   "id": "pf3cLON82swk",
   "metadata": {
    "colab": {
     "base_uri": "https://localhost:8080/"
    },
    "id": "pf3cLON82swk",
    "outputId": "69fd3c86-8522-49f4-90f9-0a5671d8a064"
   },
   "outputs": [
    {
     "name": "stdout",
     "output_type": "stream",
     "text": [
      "warnings ignored\n"
     ]
    }
   ],
   "source": [
    "import warnings\n",
    "warnings.filterwarnings('ignore')\n",
    "print('warnings ignored')"
   ]
  },
  {
   "cell_type": "code",
   "execution_count": 49,
   "id": "5qE1G6JB4fMn",
   "metadata": {
    "colab": {
     "base_uri": "https://localhost:8080/"
    },
    "id": "5qE1G6JB4fMn",
    "outputId": "6e609413-7889-4dee-b8d9-fab8eb758d99"
   },
   "outputs": [
    {
     "name": "stdout",
     "output_type": "stream",
     "text": [
      "Epoch 1/15\n",
      "352/352 [==============================] - 458s 1s/step - loss: 0.6519 - accuracy: 0.6539 - val_loss: 0.5093 - val_accuracy: 0.7524\n",
      "Epoch 2/15\n",
      "352/352 [==============================] - 326s 926ms/step - loss: 0.5066 - accuracy: 0.7498 - val_loss: 0.4563 - val_accuracy: 0.7836\n",
      "Epoch 3/15\n",
      "352/352 [==============================] - 277s 787ms/step - loss: 0.4363 - accuracy: 0.7980 - val_loss: 0.4264 - val_accuracy: 0.8048\n",
      "Epoch 4/15\n",
      "352/352 [==============================] - 270s 767ms/step - loss: 0.3756 - accuracy: 0.8293 - val_loss: 0.3914 - val_accuracy: 0.8184\n",
      "Epoch 5/15\n",
      "352/352 [==============================] - 233s 663ms/step - loss: 0.3111 - accuracy: 0.8646 - val_loss: 0.4063 - val_accuracy: 0.8196\n",
      "Epoch 6/15\n",
      "352/352 [==============================] - 227s 646ms/step - loss: 0.2343 - accuracy: 0.9019 - val_loss: 0.4908 - val_accuracy: 0.8160\n",
      "Epoch 7/15\n",
      "352/352 [==============================] - 150s 426ms/step - loss: 0.1620 - accuracy: 0.9376 - val_loss: 0.6064 - val_accuracy: 0.8028\n",
      "Epoch 8/15\n",
      "352/352 [==============================] - 157s 445ms/step - loss: 0.1063 - accuracy: 0.9624 - val_loss: 0.5626 - val_accuracy: 0.8268\n",
      "Epoch 9/15\n",
      "352/352 [==============================] - 197s 561ms/step - loss: 0.0665 - accuracy: 0.9778 - val_loss: 0.6718 - val_accuracy: 0.8276\n",
      "Epoch 10/15\n",
      "352/352 [==============================] - 168s 477ms/step - loss: 0.0489 - accuracy: 0.9846 - val_loss: 0.7336 - val_accuracy: 0.8148\n",
      "Epoch 11/15\n",
      "352/352 [==============================] - 138s 393ms/step - loss: 0.0424 - accuracy: 0.9874 - val_loss: 0.9132 - val_accuracy: 0.8192\n",
      "Epoch 12/15\n",
      "352/352 [==============================] - 93s 265ms/step - loss: 0.0376 - accuracy: 0.9884 - val_loss: 1.0272 - val_accuracy: 0.8092\n",
      "Epoch 13/15\n",
      "352/352 [==============================] - 239s 680ms/step - loss: 0.0366 - accuracy: 0.9904 - val_loss: 1.0350 - val_accuracy: 0.8192\n",
      "Epoch 14/15\n",
      "352/352 [==============================] - 303s 862ms/step - loss: 0.0409 - accuracy: 0.9895 - val_loss: 1.0478 - val_accuracy: 0.8172\n",
      "Epoch 15/15\n",
      "352/352 [==============================] - 283s 803ms/step - loss: 0.0515 - accuracy: 0.9916 - val_loss: 1.1336 - val_accuracy: 0.8272\n"
     ]
    }
   ],
   "source": [
    "\n",
    "model = create_model()\n",
    "# Instantiate the callback class so that traing will be stop after 98% of accuracy\n",
    "callbacks = myCallback()\n",
    "\n",
    "# Train the model\n",
    "\n",
    "history = model.fit(train_generator,\n",
    "                    epochs=15,\n",
    "                    verbose=1,\n",
    "                    validation_data=validation_generator, callbacks=[callbacks])"
   ]
  },
  {
   "cell_type": "code",
   "execution_count": 51,
   "id": "MWZrJN4-65RC",
   "metadata": {
    "colab": {
     "base_uri": "https://localhost:8080/",
     "height": 547
    },
    "id": "MWZrJN4-65RC",
    "outputId": "73f92d32-6df8-470d-f075-e36a77bfccab"
   },
   "outputs": [],
   "source": [
    "\n",
    "def plot_loss_acc(history):\n",
    "    \n",
    "    #-----------------------------------------------------------\n",
    "    # Retrieve a list of list results on training and test data\n",
    "    # sets for each training epoch\n",
    "    #-----------------------------------------------------------\n",
    "    acc=history.history['accuracy']\n",
    "    val_acc=history.history['val_accuracy']\n",
    "    loss=history.history['loss']\n",
    "    val_loss=history.history['val_loss']\n",
    "\n",
    "    epochs=range(len(acc)) # Get number of epochs\n",
    "\n",
    "    #------------------------------------------------\n",
    "    # Plot training and validation accuracy per epoch\n",
    "    #------------------------------------------------\n",
    "    plt.plot(epochs, acc, 'r', \"Training Accuracy\")\n",
    "    plt.plot(epochs, val_acc, 'b', \"Validation Accuracy\")\n",
    "    plt.title('Training and validation accuracy')\n",
    "    plt.show()\n",
    "    print(\"\")\n",
    "\n",
    "    #------------------------------------------------\n",
    "    # Plot training and validation loss per epoch\n",
    "    #------------------------------------------------\n",
    "    plt.plot(epochs, loss, 'r', \"Training Loss\")\n",
    "    plt.plot(epochs, val_loss, 'b', \"Validation Loss\")\n",
    "    plt.show()"
   ]
  },
  {
   "cell_type": "code",
   "execution_count": 52,
   "id": "125cf4a0",
   "metadata": {},
   "outputs": [
    {
     "data": {
      "image/png": "[encoded data removed]",
      "text/plain": [
       "<Figure size 432x288 with 1 Axes>"
      ]
     },
     "metadata": {
      "needs_background": "light"
     },
     "output_type": "display_data"
    },
    {
     "name": "stdout",
     "output_type": "stream",
     "text": [
      "\n"
     ]
    },
    {
     "data": {
      "image/png": "[encoded data removed]",
      "text/plain": [
       "<Figure size 432x288 with 1 Axes>"
      ]
     },
     "metadata": {
      "needs_background": "light"
     },
     "output_type": "display_data"
    }
   ],
   "source": [
    "# Plot training results\n",
    "plot_loss_acc(history)"
   ]
  },
  {
   "cell_type": "code",
   "execution_count": null,
   "id": "f3787999",
   "metadata": {},
   "outputs": [],
   "source": []
  },
  {
   "cell_type": "markdown",
   "id": "NYIaqsN2pav6",
   "metadata": {
    "id": "NYIaqsN2pav6"
   },
   "source": [
    "####  we encounter that the model is overfitting, which means that it is doing a great job at classifying the images in the training set but struggles with new data.\n",
    "\n"
   ]
  },
  {
   "cell_type": "code",
   "execution_count": null,
   "id": "517f8a97",
   "metadata": {},
   "outputs": [],
   "source": [
    "#one way to solve this problem is by using data augmentation\n",
    "#we update ImageDatagenerator for data augmentation"
   ]
  },
  {
   "cell_type": "code",
   "execution_count": null,
   "id": "385f6763",
   "metadata": {},
   "outputs": [],
   "source": []
  },
  {
   "cell_type": "code",
   "execution_count": null,
   "id": "90d2e3c2",
   "metadata": {},
   "outputs": [],
   "source": []
  },
  {
   "cell_type": "code",
   "execution_count": 53,
   "id": "9e074d73",
   "metadata": {},
   "outputs": [],
   "source": [
    "def train_val_generators_DataAug(TRAINING_DIR, VALIDATION_DIR):\n",
    "    \n",
    "    # Instantiate the ImageDataGenerator class and  rescale argument\n",
    "    train_After_datagen = ImageDataGenerator(rescale=1 / 255,\n",
    "                                     rotation_range=40,\n",
    "                                     width_shift_range=.2,\n",
    "                                     height_shift_range=.2,\n",
    "                                     shear_range=.2,\n",
    "                                     zoom_range=.2,\n",
    "                                     horizontal_flip=True,\n",
    "                                     fill_mode='nearest')\n",
    "\n",
    "    # Pass in the appropiate arguments to the flow_from_directory method\n",
    "    train_After_generator = train_After_datagen.flow_from_directory(directory=TRAINING_DIR,\n",
    "                                                      batch_size=64,\n",
    "                                                      class_mode='binary',\n",
    "                                                      target_size=(150, 150))\n",
    "\n",
    "    # Instantiate the ImageDataGenerator class and  rescale argument\n",
    "    validation_After_datagen = ImageDataGenerator(rescale=1 / 255)\n",
    "\n",
    "    # Pass in the appropiate arguments to the flow_from_directory method\n",
    "    validation_After_generator = validation_After_datagen.flow_from_directory(directory=VALIDATION_DIR,\n",
    "                                                                batch_size=64,\n",
    "                                                                class_mode='binary',\n",
    "                                                                target_size=(150, 150))\n",
    "  \n",
    "    return train_After_generator, validation_After_generator"
   ]
  },
  {
   "cell_type": "code",
   "execution_count": 54,
   "id": "1d71b543",
   "metadata": {},
   "outputs": [
    {
     "name": "stdout",
     "output_type": "stream",
     "text": [
      "Found 22498 images belonging to 2 classes.\n",
      "Found 2500 images belonging to 2 classes.\n"
     ]
    }
   ],
   "source": [
    "train_After_generator, validation_After_generator = train_val_generators_DataAug(TRAINING_DIR, TESTING_DIR)"
   ]
  },
  {
   "cell_type": "code",
   "execution_count": 57,
   "id": "baa14480",
   "metadata": {},
   "outputs": [],
   "source": [
    "\n",
    "from tensorflow.keras.optimizers import RMSprop\n",
    "def create_model2():\n",
    "    callbacks = [myCallback()]    \n",
    "    model2 = tf.keras.models.Sequential([ \n",
    "      tf.keras.layers.Conv2D(32, (3,3), activation='relu', input_shape=(150, 150, 3)),\n",
    "      tf.keras.layers.MaxPooling2D(2, 2),\n",
    "      tf.keras.layers.Conv2D(64, (3,3), activation='relu'),\n",
    "      tf.keras.layers.MaxPooling2D(2,2),\n",
    "      tf.keras.layers.Conv2D(128, (3,3), activation='relu'),\n",
    "      tf.keras.layers.MaxPooling2D(2,2),\n",
    "      tf.keras.layers.Conv2D(128, (3,3), activation='relu'),\n",
    "      tf.keras.layers.MaxPooling2D(2,2),\n",
    "      tf.keras.layers.Flatten(),\n",
    "      tf.keras.layers.Dense(512, activation='relu'),\n",
    "      tf.keras.layers.Dense(1, activation='sigmoid')\n",
    "    ])\n",
    "\n",
    "  \n",
    "    model2.compile(optimizer=RMSprop(lr=0.001),\n",
    "                loss='binary_crossentropy',\n",
    "                metrics=['accuracy']) \n",
    "    \n",
    "  ### END CODE HERE\n",
    "\n",
    "    return model2"
   ]
  },
  {
   "cell_type": "code",
   "execution_count": null,
   "id": "b53d2b8e",
   "metadata": {},
   "outputs": [],
   "source": []
  },
  {
   "cell_type": "code",
   "execution_count": 61,
   "id": "a80cd066",
   "metadata": {},
   "outputs": [
    {
     "name": "stdout",
     "output_type": "stream",
     "text": [
      "Epoch 1/15\n",
      "352/352 [==============================] - 324s 920ms/step - loss: 0.6903 - accuracy: 0.5768 - val_loss: 0.5891 - val_accuracy: 0.6972\n",
      "Epoch 2/15\n",
      "352/352 [==============================] - 294s 837ms/step - loss: 0.6185 - accuracy: 0.6569 - val_loss: 0.5628 - val_accuracy: 0.6996\n",
      "Epoch 3/15\n",
      "352/352 [==============================] - 365s 1s/step - loss: 0.5849 - accuracy: 0.6963 - val_loss: 0.5519 - val_accuracy: 0.7132\n",
      "Epoch 4/15\n",
      "352/352 [==============================] - 384s 1s/step - loss: 0.5457 - accuracy: 0.7252 - val_loss: 0.5289 - val_accuracy: 0.7120\n",
      "Epoch 5/15\n",
      "352/352 [==============================] - 359s 1s/step - loss: 0.5082 - accuracy: 0.7553 - val_loss: 0.4026 - val_accuracy: 0.8164\n",
      "Epoch 6/15\n",
      "352/352 [==============================] - 311s 884ms/step - loss: 0.4862 - accuracy: 0.7711 - val_loss: 0.3778 - val_accuracy: 0.8284\n",
      "Epoch 7/15\n",
      "352/352 [==============================] - 324s 921ms/step - loss: 0.4569 - accuracy: 0.7862 - val_loss: 0.3436 - val_accuracy: 0.8488\n",
      "Epoch 8/15\n",
      "352/352 [==============================] - 307s 873ms/step - loss: 0.4377 - accuracy: 0.7988 - val_loss: 0.5049 - val_accuracy: 0.7404\n",
      "Epoch 9/15\n",
      "352/352 [==============================] - 312s 888ms/step - loss: 0.4129 - accuracy: 0.8122 - val_loss: 0.4480 - val_accuracy: 0.7864\n",
      "Epoch 10/15\n",
      "352/352 [==============================] - 343s 973ms/step - loss: 0.3920 - accuracy: 0.8241 - val_loss: 0.2729 - val_accuracy: 0.8792\n",
      "Epoch 11/15\n",
      "352/352 [==============================] - 330s 938ms/step - loss: 0.3762 - accuracy: 0.8337 - val_loss: 0.3173 - val_accuracy: 0.8772\n",
      "Epoch 12/15\n",
      "352/352 [==============================] - 316s 898ms/step - loss: 0.3543 - accuracy: 0.8443 - val_loss: 0.2692 - val_accuracy: 0.8900\n",
      "Epoch 13/15\n",
      "352/352 [==============================] - 288s 818ms/step - loss: 0.3438 - accuracy: 0.8540 - val_loss: 0.2365 - val_accuracy: 0.9008\n",
      "Epoch 14/15\n",
      "352/352 [==============================] - 324s 922ms/step - loss: 0.3320 - accuracy: 0.8576 - val_loss: 0.2380 - val_accuracy: 0.9028\n",
      "Epoch 15/15\n",
      "352/352 [==============================] - 303s 862ms/step - loss: 0.3264 - accuracy: 0.8631 - val_loss: 0.2249 - val_accuracy: 0.9096\n"
     ]
    }
   ],
   "source": [
    "# Get the untrained model\n",
    "model2 = create_model2()\n",
    "\n",
    "# Train the model\n",
    "# Note that this may take some time.\n",
    "history2 = model2.fit(train_After_generator,\n",
    "                    epochs=15,\n",
    "                    verbose=1,\n",
    "                    validation_data=validation_After_generator,                    \n",
    "                    callbacks=callbacks)"
   ]
  },
  {
   "cell_type": "code",
   "execution_count": 62,
   "id": "cd097c14",
   "metadata": {},
   "outputs": [
    {
     "data": {
      "image/png": "[encoded data removed]",
      "text/plain": [
       "<Figure size 432x288 with 1 Axes>"
      ]
     },
     "metadata": {
      "needs_background": "light"
     },
     "output_type": "display_data"
    },
    {
     "name": "stdout",
     "output_type": "stream",
     "text": [
      "\n"
     ]
    },
    {
     "data": {
      "image/png": "[encoded data removed]",
      "text/plain": [
       "<Figure size 432x288 with 1 Axes>"
      ]
     },
     "metadata": {
      "needs_background": "light"
     },
     "output_type": "display_data"
    }
   ],
   "source": [
    "plot_loss_acc(history2)"
   ]
  },
  {
   "cell_type": "code",
   "execution_count": null,
   "id": "d425172b",
   "metadata": {},
   "outputs": [],
   "source": []
  },
  {
   "cell_type": "code",
   "execution_count": null,
   "id": "yWcrc9nZTsHj",
   "metadata": {
    "colab": {
     "base_uri": "https://localhost:8080/",
     "height": 17
    },
    "id": "yWcrc9nZTsHj",
    "outputId": "75e036db-ed2d-4098-cbed-a9b1a8453e26"
   },
   "outputs": [],
   "source": []
  },
  {
   "cell_type": "code",
   "execution_count": null,
   "id": "85e8c015",
   "metadata": {},
   "outputs": [],
   "source": []
  }
 ],
 "metadata": {
  "accelerator": "GPU",
  "colab": {
   "name": "C2W1_Assignment.ipynb",
   "provenance": []
  },
  "kernelspec": {
   "display_name": "Python 3",
   "language": "python",
   "name": "python3"
  },
  "language_info": {
   "codemirror_mode": {
    "name": "ipython",
    "version": 3
   },
   "file_extension": ".py",
   "mimetype": "text/x-python",
   "name": "python",
   "nbconvert_exporter": "python",
   "pygments_lexer": "ipython3",
   "version": "3.8.8"
  }
 },
 "nbformat": 4,
 "nbformat_minor": 5
}
